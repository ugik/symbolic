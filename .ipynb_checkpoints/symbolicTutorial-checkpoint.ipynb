{
 "cells": [
  {
   "cell_type": "code",
   "execution_count": 1,
   "metadata": {
    "collapsed": false
   },
   "outputs": [],
   "source": [
    "from symbolic import Symbolic, Reason"
   ]
  },
  {
   "cell_type": "code",
   "execution_count": 2,
   "metadata": {
    "collapsed": false
   },
   "outputs": [
    {
     "name": "stdout",
     "output_type": "stream",
     "text": [
      "['a']\n",
      "[('a', ['foo'])]\n",
      "1 <class 'symbolic.Symbolic'>\n"
     ]
    }
   ],
   "source": [
    "s1 = Symbolic('a')\n",
    "print (s1)\n",
    "s1.add_symbolic('a', 'foo')\n",
    "print (s1)\n",
    "print (len(s1), type(s1))"
   ]
  },
  {
   "cell_type": "code",
   "execution_count": 3,
   "metadata": {
    "collapsed": false
   },
   "outputs": [
    {
     "data": {
      "text/plain": [
       "[['0'], ['0', '1'], ['1'], ['1'], [('1', ['_2'])]]"
      ]
     },
     "execution_count": 3,
     "metadata": {},
     "output_type": "execute_result"
    }
   ],
   "source": [
    "s1 = Symbolic('0 1 1')\n",
    "s2 = Symbolic('1 0 1')\n",
    "s1.mask(s2)"
   ]
  },
  {
   "cell_type": "code",
   "execution_count": 4,
   "metadata": {
    "collapsed": false
   },
   "outputs": [
    {
     "name": "stdout",
     "output_type": "stream",
     "text": [
      "[[('c', ['_2'])]]\n",
      "[['c']]\n"
     ]
    }
   ],
   "source": [
    "s1 = Symbolic('a b c')\n",
    "s2 = Symbolic('x y c')\n",
    "s3 = Symbolic('c o i')\n",
    "print (s1.mask(s2))\n",
    "print (s2.mask(s3))"
   ]
  },
  {
   "cell_type": "code",
   "execution_count": 5,
   "metadata": {
    "collapsed": false
   },
   "outputs": [
    {
     "data": {
      "text/plain": [
       "[[('0', ['_0']), ('1', ['_1']), ('0', ['_2'])],\n",
       " [('1', ['_0']), ('1', ['_1']), ('1', ['_2'])],\n",
       " [('0', ['_0']), ('1', ['_1']), ('1', ['_2'])]]"
      ]
     },
     "execution_count": 5,
     "metadata": {},
     "output_type": "execute_result"
    }
   ],
   "source": [
    "r = Reason()\n",
    "s1 = Symbolic('0 1 0')\n",
    "r.add_pattern(pattern=s1, attribute='middle', relation='is')\n",
    "s2 = Symbolic('0 1 1')\n",
    "r.add_pattern(pattern=s2, attribute='middle', relation='is')\n",
    "s3 = Symbolic('1 1 1')\n",
    "r.add_pattern(pattern=s3, attribute='middle', relation='is')\n",
    "r.add_pattern(pattern=Symbolic('0 0 1'), attribute='middle', relation='is not')\n",
    "r.add_pattern(pattern=Symbolic('1 0 0'), attribute='middle', relation='is not')\n",
    "\n",
    "r.get_patterns('middle')['patterns']"
   ]
  },
  {
   "cell_type": "code",
   "execution_count": 6,
   "metadata": {
    "collapsed": false
   },
   "outputs": [
    {
     "data": {
      "text/plain": [
       "[['1'], [('1', ['_1'])]]"
      ]
     },
     "execution_count": 6,
     "metadata": {},
     "output_type": "execute_result"
    }
   ],
   "source": [
    "r.distinguishing('middle')"
   ]
  },
  {
   "cell_type": "code",
   "execution_count": 7,
   "metadata": {
    "collapsed": false
   },
   "outputs": [
    {
     "name": "stdout",
     "output_type": "stream",
     "text": [
      "(True, 'has distinguishing features')\n",
      "(False, 'exact match with attribute anti-patterns')\n",
      "(False, 'has higher similarity with attribute anti-patterns than its patterns')\n"
     ]
    }
   ],
   "source": [
    "s0 = Symbolic('1 1 0')\n",
    "print (r.determine(s0, 'middle'))\n",
    "\n",
    "s0 = Symbolic('1 0 0')\n",
    "print (r.determine(s0, 'middle'))\n",
    "\n",
    "s0 = Symbolic('0 0 0')\n",
    "print (r.determine(s0, 'middle'))"
   ]
  },
  {
   "cell_type": "code",
   "execution_count": 8,
   "metadata": {
    "collapsed": false
   },
   "outputs": [
    {
     "data": {
      "text/plain": [
       "(None, \"I don't know\")"
      ]
     },
     "execution_count": 8,
     "metadata": {},
     "output_type": "execute_result"
    }
   ],
   "source": [
    "s0 = Symbolic('x y z')\n",
    "r.determine(s0, 'middle')"
   ]
  },
  {
   "cell_type": "code",
   "execution_count": 16,
   "metadata": {
    "collapsed": false
   },
   "outputs": [
    {
     "name": "stdout",
     "output_type": "stream",
     "text": [
      "[['a'], ['a', 'b'], ['a', 'b', 'c'], ['b'], ['b', 'c'], ['c']]\n",
      "[['x'], ['x', 'y'], ['y'], ['n']]\n"
     ]
    }
   ],
   "source": [
    "r = Reason()\n",
    "s1 = Symbolic('a b c o u t z')\n",
    "r.add_pattern(pattern=s1, attribute='abc', relation='is')\n",
    "s2 = Symbolic('v a b c h v l')\n",
    "r.add_pattern(pattern=s2, attribute='abc', relation='is')\n",
    "s3 = Symbolic('x y k a b n')\n",
    "r.add_pattern(pattern=s3, attribute='abc', relation='is not')\n",
    "s4 = Symbolic('o n o x y g')\n",
    "r.add_pattern(pattern=s4, attribute='abc', relation='is not')\n",
    "\n",
    "print (r.distinguishing('abc'))\n",
    "print (r.distinguishing('abc', relation='is not'))"
   ]
  },
  {
   "cell_type": "code",
   "execution_count": 17,
   "metadata": {
    "collapsed": false
   },
   "outputs": [
    {
     "data": {
      "text/plain": [
       "(True, 'has higher similarity with attribute patterns than its anti-patterns')"
      ]
     },
     "execution_count": 17,
     "metadata": {},
     "output_type": "execute_result"
    }
   ],
   "source": [
    "s0 = Symbolic('c b a c a n x')\n",
    "r.determine(s0, 'abc', debug=False)"
   ]
  },
  {
   "cell_type": "code",
   "execution_count": 18,
   "metadata": {
    "collapsed": false
   },
   "outputs": [
    {
     "name": "stdout",
     "output_type": "stream",
     "text": [
      "[['x'], ['n']]\n"
     ]
    }
   ],
   "source": [
    "s0 = Symbolic('c b a c b a n x')\n",
    "r.add_pattern(pattern=s0, attribute='abc', relation='is not')\n",
    "print (r.distinguishing('abc', relation='is not'))"
   ]
  },
  {
   "cell_type": "code",
   "execution_count": 19,
   "metadata": {
    "collapsed": false
   },
   "outputs": [
    {
     "data": {
      "text/plain": [
       "(True, 'has distinguishing features for anti-relation')"
      ]
     },
     "execution_count": 19,
     "metadata": {},
     "output_type": "execute_result"
    }
   ],
   "source": [
    "s0 = Symbolic('o g h j n x')\n",
    "r.determine(s0, 'abc')"
   ]
  },
  {
   "cell_type": "code",
   "execution_count": 20,
   "metadata": {
    "collapsed": false
   },
   "outputs": [
    {
     "data": {
      "text/plain": [
       "[[('*', ['bird'])]]"
      ]
     },
     "execution_count": 20,
     "metadata": {},
     "output_type": "execute_result"
    }
   ],
   "source": [
    "s1 = Symbolic('terrier trout crow')\n",
    "s1.add_symbolic('terrier', 'dog')\n",
    "s1.add_symbolic('trout', 'fish')\n",
    "s1.add_symbolic('crow', 'bird')\n",
    "\n",
    "s2 = Symbolic('robin')\n",
    "s2.add_symbolic('robin', 'bird')\n",
    "\n",
    "s1.mask(s2)"
   ]
  }
 ],
 "metadata": {
  "kernelspec": {
   "display_name": "Python 3",
   "language": "python",
   "name": "python3"
  },
  "language_info": {
   "codemirror_mode": {
    "name": "ipython",
    "version": 3
   },
   "file_extension": ".py",
   "mimetype": "text/x-python",
   "name": "python",
   "nbconvert_exporter": "python",
   "pygments_lexer": "ipython3",
   "version": "3.5.2"
  }
 },
 "nbformat": 4,
 "nbformat_minor": 1
}
