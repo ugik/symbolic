{
 "cells": [
  {
   "cell_type": "code",
   "execution_count": 6,
   "metadata": {
    "collapsed": false
   },
   "outputs": [],
   "source": [
    "from symbolic import Symbolic, Reason, top_mask"
   ]
  },
  {
   "cell_type": "code",
   "execution_count": 2,
   "metadata": {
    "collapsed": false
   },
   "outputs": [
    {
     "name": "stdout",
     "output_type": "stream",
     "text": [
      "0.9563139999999999 secs\n"
     ]
    },
    {
     "data": {
      "text/plain": [
       "{'is': [[('0', ['_0'])],\n",
       "  ['0'],\n",
       "  [('0', ['_0']), ('1', ['_1'])],\n",
       "  [('1', ['_1'])]],\n",
       " 'is not': [[('1', ['_0'])],\n",
       "  [('1', ['_0']), ('0', ['_1'])],\n",
       "  [('0', ['_1'])],\n",
       "  ['7']]}"
      ]
     },
     "execution_count": 2,
     "metadata": {},
     "output_type": "execute_result"
    }
   ],
   "source": [
    "r = Reason()\n",
    "s1 = Symbolic(\"0 1 9 3 6\")\n",
    "r.add_pattern(pattern=s1, attribute='foo', relation='is')\n",
    "s2 = Symbolic(\"0 1 7 4 2\")\n",
    "r.add_pattern(pattern=s2, attribute='foo', relation='is')\n",
    "s3 = Symbolic(\"0 1 5 0 9\")\n",
    "r.add_pattern(pattern=s3, attribute='foo', relation='is')\n",
    "s4 = Symbolic(\"1 0 4 6 7\")\n",
    "r.add_pattern(pattern=s4, attribute='foo', relation='is not')\n",
    "s5 = Symbolic(\"1 0 3 7 8\")\n",
    "r.add_pattern(pattern=s5, attribute='foo', relation='is not', elapse=True)\n",
    "r.distinguishing_features['foo']"
   ]
  },
  {
   "cell_type": "code",
   "execution_count": 3,
   "metadata": {
    "collapsed": false
   },
   "outputs": [
    {
     "data": {
      "text/plain": [
       "(True, 'has distinguishing features')"
      ]
     },
     "execution_count": 3,
     "metadata": {},
     "output_type": "execute_result"
    }
   ],
   "source": [
    "s0 = Symbolic('0 1 0 6 2')\n",
    "r.determine(s0, 'foo')"
   ]
  },
  {
   "cell_type": "code",
   "execution_count": 4,
   "metadata": {
    "collapsed": false
   },
   "outputs": [
    {
     "data": {
      "text/plain": [
       "{'is': [['1'], ['0']], 'is not': None}"
      ]
     },
     "execution_count": 4,
     "metadata": {},
     "output_type": "execute_result"
    }
   ],
   "source": [
    "r = Reason()\n",
    "s1 = Symbolic(\"7 8 0 1 9 3 6\")\n",
    "r.add_pattern(pattern=s1, attribute='foo', relation='is')\n",
    "s2 = Symbolic(\"4 0 1 7 4 2\")\n",
    "r.add_pattern(pattern=s2, attribute='foo', relation='is')\n",
    "s3 = Symbolic(\"2 9 0 1 5\")\n",
    "r.add_pattern(pattern=s3, attribute='foo', relation='is')\n",
    "s4 = Symbolic(\"6 1 0 4 6 7\")\n",
    "r.add_pattern(pattern=s4, attribute='foo', relation='is')\n",
    "s5 = Symbolic(\"8 9 1 1 0\")\n",
    "r.add_pattern(pattern=s5, attribute='foo', relation='is')\n",
    "r.distinguishing_features['foo']"
   ]
  },
  {
   "cell_type": "code",
   "execution_count": 7,
   "metadata": {
    "collapsed": false
   },
   "outputs": [
    {
     "name": "stdout",
     "output_type": "stream",
     "text": [
      "42.994692 secs\n",
      "0 [('6', ['_0']), ('1', ['_1']), ('0', ['_2']), ('4', ['_3']), ('6', ['_4']), ('7', ['_5'])]\n",
      "1 [('8', ['_0']), ('9', ['_1']), ('1', ['_2']), ('1', ['_3']), ('0', ['_4'])]\n",
      "2 [('7', ['_0']), ('8', ['_1']), ('0', ['_2']), ('1', ['_3']), ('9', ['_4']), ('3', ['_5']), ('6', ['_6'])]\n",
      "3 [('4', ['_0']), ('0', ['_1']), ('1', ['_2']), ('7', ['_3']), ('4', ['_4']), ('2', ['_5'])]\n",
      "4 [('2', ['_0']), ('9', ['_1']), ('0', ['_2']), ('1', ['_3']), ('5', ['_4'])]\n",
      "[0, 1] -> [['1'], ['1'], ['1', '0'], ['0']]\n",
      "[2, 3, 4] -> [['0'], ['0', '1'], ['1']]\n"
     ]
    },
    {
     "data": {
      "text/plain": [
       "(['1', '0'], ['0', '1'])"
      ]
     },
     "execution_count": 7,
     "metadata": {},
     "output_type": "execute_result"
    }
   ],
   "source": [
    "dis1, dis2 = r.distinguishingOR('foo', debug=True)\n",
    "top_mask(dis1), top_mask(dis2)"
   ]
  }
 ],
 "metadata": {
  "kernelspec": {
   "display_name": "Python 3",
   "language": "python",
   "name": "python3"
  },
  "language_info": {
   "codemirror_mode": {
    "name": "ipython",
    "version": 3
   },
   "file_extension": ".py",
   "mimetype": "text/x-python",
   "name": "python",
   "nbconvert_exporter": "python",
   "pygments_lexer": "ipython3",
   "version": "3.5.2"
  }
 },
 "nbformat": 4,
 "nbformat_minor": 1
}
