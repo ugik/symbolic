{
 "cells": [
  {
   "cell_type": "code",
   "execution_count": 6,
   "metadata": {
    "collapsed": false
   },
   "outputs": [],
   "source": [
    "from symbolic import Symbolic, Reason"
   ]
  },
  {
   "cell_type": "code",
   "execution_count": 2,
   "metadata": {
    "collapsed": false
   },
   "outputs": [
    {
     "name": "stdout",
     "output_type": "stream",
     "text": [
      "0.95668 secs\n"
     ]
    },
    {
     "data": {
      "text/plain": [
       "{'is': [[('0', ['_0'])],\n",
       "  ['0'],\n",
       "  [('0', ['_0']), ('1', ['_1'])],\n",
       "  [('1', ['_1'])]],\n",
       " 'is not': [[('1', ['_0'])],\n",
       "  [('1', ['_0']), ('0', ['_1'])],\n",
       "  [('0', ['_1'])],\n",
       "  ['7']]}"
      ]
     },
     "execution_count": 2,
     "metadata": {},
     "output_type": "execute_result"
    }
   ],
   "source": [
    "r = Reason()\n",
    "s1 = Symbolic(\"0 1 9 3 6\")\n",
    "r.add_pattern(pattern=s1, attribute='foo', relation='is')\n",
    "s2 = Symbolic(\"0 1 7 4 2\")\n",
    "r.add_pattern(pattern=s2, attribute='foo', relation='is')\n",
    "s3 = Symbolic(\"0 1 5 0 9\")\n",
    "r.add_pattern(pattern=s3, attribute='foo', relation='is')\n",
    "s4 = Symbolic(\"1 0 4 6 7\")\n",
    "r.add_pattern(pattern=s4, attribute='foo', relation='is not')\n",
    "s5 = Symbolic(\"1 0 3 7 8\")\n",
    "r.add_pattern(pattern=s5, attribute='foo', relation='is not', elapse=True)\n",
    "r.distinguishing_features['foo']"
   ]
  },
  {
   "cell_type": "code",
   "execution_count": 3,
   "metadata": {
    "collapsed": false
   },
   "outputs": [
    {
     "name": "stdout",
     "output_type": "stream",
     "text": [
      "1.2538859999999996 secs\n"
     ]
    },
    {
     "data": {
      "text/plain": [
       "{'is': [['0'], ['1']], 'is not': None}"
      ]
     },
     "execution_count": 3,
     "metadata": {},
     "output_type": "execute_result"
    }
   ],
   "source": [
    "r = Reason()\n",
    "s1 = Symbolic(\"0 1 9 3 6\")\n",
    "r.add_pattern(pattern=s1, attribute='foo', relation='is')\n",
    "s2 = Symbolic(\"0 1 7 4 2\")\n",
    "r.add_pattern(pattern=s2, attribute='foo', relation='is')\n",
    "s3 = Symbolic(\"0 1 5 0 9\")\n",
    "r.add_pattern(pattern=s3, attribute='foo', relation='is')\n",
    "s4 = Symbolic(\"1 0 4 6 7\")\n",
    "r.add_pattern(pattern=s4, attribute='foo', relation='is')\n",
    "s5 = Symbolic(\"1 0 3 7 8\")\n",
    "r.add_pattern(pattern=s5, attribute='foo', relation='is', elapse=True)\n",
    "r.distinguishing_features['foo']"
   ]
  },
  {
   "cell_type": "code",
   "execution_count": 9,
   "metadata": {
    "collapsed": false
   },
   "outputs": [
    {
     "name": "stdout",
     "output_type": "stream",
     "text": [
      "15.744222 secs\n"
     ]
    },
    {
     "data": {
      "text/plain": [
       "([('1', ['_0']), ('0', ['_1'])], [('0', ['_0']), ('1', ['_1'])])"
      ]
     },
     "execution_count": 9,
     "metadata": {},
     "output_type": "execute_result"
    }
   ],
   "source": [
    "dis1, dis2 = r.distinguishingOR('foo', debug=False)\n",
    "top_mask(dis1), top_mask(dis2)"
   ]
  }
 ],
 "metadata": {
  "kernelspec": {
   "display_name": "Python 3",
   "language": "python",
   "name": "python3"
  },
  "language_info": {
   "codemirror_mode": {
    "name": "ipython",
    "version": 3
   },
   "file_extension": ".py",
   "mimetype": "text/x-python",
   "name": "python",
   "nbconvert_exporter": "python",
   "pygments_lexer": "ipython3",
   "version": "3.5.2"
  }
 },
 "nbformat": 4,
 "nbformat_minor": 1
}
