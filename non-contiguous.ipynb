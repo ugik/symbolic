{
 "cells": [
  {
   "cell_type": "code",
   "execution_count": 223,
   "metadata": {
    "collapsed": false
   },
   "outputs": [],
   "source": [
    "# find unique non-contiguous subsets of a list\n",
    "def subSegment(patterns, span, positions, segments, loop=0, level=0):\n",
    "    if level < span:\n",
    "        for loop in range(level, len(patterns)):\n",
    "            # a stack of positions\n",
    "            positions.append(loop)\n",
    "            # recursive call\n",
    "            segments = subSegment(patterns, span, positions, segments, loop+1, level+1)\n",
    "    else:\n",
    "        segment = [p for p in positions]\n",
    "        # if no duplicates in the segment\n",
    "        if len(list(set(segment))) == len(segment):\n",
    "            duplicate = False\n",
    "            # if no duplicates among segments\n",
    "            for s in segments:\n",
    "                if set(segment).issubset(set(s)):\n",
    "                    duplicate = True\n",
    "                    break\n",
    "            \n",
    "            if not duplicate:    # ignore duplicates\n",
    "                segments.append(segment)\n",
    "\n",
    "    if positions:\n",
    "        positions.pop()\n",
    "\n",
    "    return segments"
   ]
  },
  {
   "cell_type": "code",
   "execution_count": 272,
   "metadata": {
    "collapsed": false
   },
   "outputs": [
    {
     "name": "stdout",
     "output_type": "stream",
     "text": [
      "\n",
      "span: 1\n",
      "[([0], [1, 2, 3, 4]), ([1], [0, 2, 3, 4]), ([2], [0, 1, 3, 4]), ([3], [0, 1, 2, 4]), ([4], [0, 1, 2, 3])]\n",
      "\n",
      "span: 2\n",
      "[([0, 1], [2, 3, 4]), ([0, 2], [1, 3, 4]), ([0, 3], [1, 2, 4]), ([0, 4], [1, 2, 3]), ([1, 2], [0, 3, 4]), ([1, 3], [0, 2, 4]), ([1, 4], [0, 2, 3]), ([2, 3], [0, 1, 4]), ([2, 4], [0, 1, 3]), ([3, 4], [0, 1, 2])]\n",
      "count: 15\n"
     ]
    }
   ],
   "source": [
    "# find all non-contiguous subsets of a numerical series\n",
    "series = list(range(0, 5))\n",
    "span = int(len(series)/2)\n",
    "\n",
    "count = 0\n",
    "for s in range(1, span+1):\n",
    "    print ('\\nspan:', s)\n",
    "    segments = subSegment(series, s, [], [])\n",
    "    count += len(segments)\n",
    "    print ([(s,list(set(series).difference(s))) for s in segments])\n",
    "        \n",
    "print ('count:', count)"
   ]
  },
  {
   "cell_type": "code",
   "execution_count": null,
   "metadata": {
    "collapsed": false
   },
   "outputs": [],
   "source": [
    "# range:counts -> 5:15, 6:41, 7:63, 8:162, 9:255, 10:637"
   ]
  }
 ],
 "metadata": {
  "kernelspec": {
   "display_name": "Python 3",
   "language": "python",
   "name": "python3"
  },
  "language_info": {
   "codemirror_mode": {
    "name": "ipython",
    "version": 3
   },
   "file_extension": ".py",
   "mimetype": "text/x-python",
   "name": "python",
   "nbconvert_exporter": "python",
   "pygments_lexer": "ipython3",
   "version": "3.5.2"
  }
 },
 "nbformat": 4,
 "nbformat_minor": 1
}
